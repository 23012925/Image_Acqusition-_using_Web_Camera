{
  "cells": [
    {
      "cell_type": "code",
      "execution_count": null,
      "metadata": {
        "id": "hYUzMUQkTAAr"
      },
      "outputs": [],
      "source": [
        "EXPT-2 IMAGE ACQUSITION USING WEB CAMERA\n",
        "NAME: JANARTHANAN K\n",
        "REG NO: 212223040072"
      ]
    },
    {
      "cell_type": "code",
      "execution_count": null,
      "metadata": {},
      "outputs": [],
      "source": [
        "## i) Write the frame as JPG file\n",
        "import cv2\n",
        "#Tye ur code here\n",
        "while (True):\n",
        "    ret,frame = videoCaptureObject.read()\n",
        "    cv2.imwrite(\"TYPE UR IMAGE NAME ALONG WITH EXTENSION\",frame)\n",
        "    result = False\n",
        "#Type ur code here"
      ]
    },
    {
      "cell_type": "code",
      "execution_count": null,
      "metadata": {
        "id": "wj6mW4yyTKFm"
      },
      "outputs": [],
      "source": [
        "\n",
        "## ii) Display the video\n",
        "import cv2\n",
        "videoCaptureObject = cv2.VideoCapture(0)\n",
        "#Type ur code here\n",
        "videoCaptureObject.release()\n",
        "cv2.destroyAllWindows()"
      ]
    },
    {
      "cell_type": "code",
      "execution_count": null,
      "metadata": {
        "id": "Y12_al9uTMGw"
      },
      "outputs": [],
      "source": [
        "## iii) Display the video by resizing the window\n",
        "import cv2\n",
        "import numpy as np\n",
        "cap = cv2.VideoCapture(0)\n",
        "while True:\n",
        "    #Type ur code here\n",
        "    smaller_frame = cv2.resize(frame, (0,0), fx = 0.5, fy=0.5)\n",
        "    image[:height//2, :width//2] = smaller_frame\n",
        "    #Type ur code here\n",
        "    cv2.imshow('myimage', image)\n",
        "    if cv2.waitKey(1) == ord('q'):\n",
        "        break\n",
        "#Type ur code here"
      ]
    },
    {
      "cell_type": "code",
      "execution_count": null,
      "metadata": {
        "id": "Cb1O23bdTOVM"
      },
      "outputs": [],
      "source": [
        "## iv) Rotate and display the video\n",
        "import cv2\n",
        "import numpy as np\n",
        "cap = cv2.VideoCapture(0)\n",
        "while True:\n",
        "    ret, frame = cap.read()\n",
        "    width = int(cap.get(3))\n",
        "    height = int(cap.get(4))\n",
        "    #Type ur code here\n",
        "    image [height//2:, width//2:] = smaller_frame\n",
        "    cv2.imshow('myimage', image)\n",
        "    if cv2.waitKey(1) == ord('q'):\n",
        "        break\n",
        "cap.release()\n",
        "cv2.destroyAllWindows()"
      ]
    }
  ],
  "metadata": {
    "colab": {
      "provenance": []
    },
    "kernelspec": {
      "display_name": "Python 3",
      "name": "python3"
    },
    "language_info": {
      "name": "python"
    }
  },
  "nbformat": 4,
  "nbformat_minor": 0
}
